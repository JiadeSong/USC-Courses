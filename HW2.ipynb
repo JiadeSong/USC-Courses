{
 "cells": [
  {
   "cell_type": "code",
   "execution_count": 1,
   "id": "999e5a9b",
   "metadata": {},
   "outputs": [],
   "source": [
    "import numpy as np\n",
    "import pandas as pd"
   ]
  },
  {
   "cell_type": "code",
   "execution_count": 2,
   "id": "42dc2f9c",
   "metadata": {},
   "outputs": [],
   "source": [
    "df = pd.read_excel('GM.xlsx',header = 0,sheet_name = 'Cars Lab Data')\n",
    "df['Cylinder'] = df['Cylinder'].astype(int, errors = 'raise')"
   ]
  },
  {
   "cell_type": "code",
   "execution_count": 3,
   "id": "dcb2b04f",
   "metadata": {},
   "outputs": [
    {
     "data": {
      "text/html": [
       "<div>\n",
       "<style scoped>\n",
       "    .dataframe tbody tr th:only-of-type {\n",
       "        vertical-align: middle;\n",
       "    }\n",
       "\n",
       "    .dataframe tbody tr th {\n",
       "        vertical-align: top;\n",
       "    }\n",
       "\n",
       "    .dataframe thead th {\n",
       "        text-align: right;\n",
       "    }\n",
       "</style>\n",
       "<table border=\"1\" class=\"dataframe\">\n",
       "  <thead>\n",
       "    <tr style=\"text-align: right;\">\n",
       "      <th></th>\n",
       "      <th>Price</th>\n",
       "      <th>Mileage</th>\n",
       "      <th>Make</th>\n",
       "      <th>Model</th>\n",
       "      <th>Trim</th>\n",
       "      <th>Type</th>\n",
       "      <th>Cylinder</th>\n",
       "      <th>Liter</th>\n",
       "      <th>Doors</th>\n",
       "      <th>Cruise</th>\n",
       "      <th>Sound</th>\n",
       "      <th>Leather</th>\n",
       "    </tr>\n",
       "  </thead>\n",
       "  <tbody>\n",
       "    <tr>\n",
       "      <th>0</th>\n",
       "      <td>70755.466717</td>\n",
       "      <td>583</td>\n",
       "      <td>Cadillac</td>\n",
       "      <td>XLR-V8</td>\n",
       "      <td>Hardtop Conv 2D</td>\n",
       "      <td>Convertible</td>\n",
       "      <td>8</td>\n",
       "      <td>4.6</td>\n",
       "      <td>2</td>\n",
       "      <td>1</td>\n",
       "      <td>1</td>\n",
       "      <td>1</td>\n",
       "    </tr>\n",
       "    <tr>\n",
       "      <th>1</th>\n",
       "      <td>69133.731722</td>\n",
       "      <td>7892</td>\n",
       "      <td>Cadillac</td>\n",
       "      <td>XLR-V8</td>\n",
       "      <td>Hardtop Conv 2D</td>\n",
       "      <td>Convertible</td>\n",
       "      <td>8</td>\n",
       "      <td>4.6</td>\n",
       "      <td>2</td>\n",
       "      <td>1</td>\n",
       "      <td>1</td>\n",
       "      <td>1</td>\n",
       "    </tr>\n",
       "    <tr>\n",
       "      <th>2</th>\n",
       "      <td>68566.187189</td>\n",
       "      <td>6420</td>\n",
       "      <td>Cadillac</td>\n",
       "      <td>XLR-V8</td>\n",
       "      <td>Hardtop Conv 2D</td>\n",
       "      <td>Convertible</td>\n",
       "      <td>8</td>\n",
       "      <td>4.6</td>\n",
       "      <td>2</td>\n",
       "      <td>1</td>\n",
       "      <td>1</td>\n",
       "      <td>1</td>\n",
       "    </tr>\n",
       "    <tr>\n",
       "      <th>3</th>\n",
       "      <td>66374.307040</td>\n",
       "      <td>12021</td>\n",
       "      <td>Cadillac</td>\n",
       "      <td>XLR-V8</td>\n",
       "      <td>Hardtop Conv 2D</td>\n",
       "      <td>Convertible</td>\n",
       "      <td>8</td>\n",
       "      <td>4.6</td>\n",
       "      <td>2</td>\n",
       "      <td>1</td>\n",
       "      <td>1</td>\n",
       "      <td>1</td>\n",
       "    </tr>\n",
       "    <tr>\n",
       "      <th>4</th>\n",
       "      <td>65281.481237</td>\n",
       "      <td>15600</td>\n",
       "      <td>Cadillac</td>\n",
       "      <td>XLR-V8</td>\n",
       "      <td>Hardtop Conv 2D</td>\n",
       "      <td>Convertible</td>\n",
       "      <td>8</td>\n",
       "      <td>4.6</td>\n",
       "      <td>2</td>\n",
       "      <td>1</td>\n",
       "      <td>1</td>\n",
       "      <td>1</td>\n",
       "    </tr>\n",
       "    <tr>\n",
       "      <th>...</th>\n",
       "      <td>...</td>\n",
       "      <td>...</td>\n",
       "      <td>...</td>\n",
       "      <td>...</td>\n",
       "      <td>...</td>\n",
       "      <td>...</td>\n",
       "      <td>...</td>\n",
       "      <td>...</td>\n",
       "      <td>...</td>\n",
       "      <td>...</td>\n",
       "      <td>...</td>\n",
       "      <td>...</td>\n",
       "    </tr>\n",
       "    <tr>\n",
       "      <th>799</th>\n",
       "      <td>9220.829677</td>\n",
       "      <td>29992</td>\n",
       "      <td>Chevrolet</td>\n",
       "      <td>AVEO</td>\n",
       "      <td>SVM Hatchback 4D</td>\n",
       "      <td>Hatchback</td>\n",
       "      <td>4</td>\n",
       "      <td>1.6</td>\n",
       "      <td>4</td>\n",
       "      <td>1</td>\n",
       "      <td>0</td>\n",
       "      <td>1</td>\n",
       "    </tr>\n",
       "    <tr>\n",
       "      <th>800</th>\n",
       "      <td>9041.906254</td>\n",
       "      <td>26191</td>\n",
       "      <td>Chevrolet</td>\n",
       "      <td>AVEO</td>\n",
       "      <td>SVM Sedan 4D</td>\n",
       "      <td>Sedan</td>\n",
       "      <td>4</td>\n",
       "      <td>1.6</td>\n",
       "      <td>4</td>\n",
       "      <td>0</td>\n",
       "      <td>0</td>\n",
       "      <td>1</td>\n",
       "    </tr>\n",
       "    <tr>\n",
       "      <th>801</th>\n",
       "      <td>8870.947316</td>\n",
       "      <td>32914</td>\n",
       "      <td>Chevrolet</td>\n",
       "      <td>AVEO</td>\n",
       "      <td>SVM Sedan 4D</td>\n",
       "      <td>Sedan</td>\n",
       "      <td>4</td>\n",
       "      <td>1.6</td>\n",
       "      <td>4</td>\n",
       "      <td>1</td>\n",
       "      <td>1</td>\n",
       "      <td>0</td>\n",
       "    </tr>\n",
       "    <tr>\n",
       "      <th>802</th>\n",
       "      <td>8768.998585</td>\n",
       "      <td>35299</td>\n",
       "      <td>Chevrolet</td>\n",
       "      <td>AVEO</td>\n",
       "      <td>SVM Sedan 4D</td>\n",
       "      <td>Sedan</td>\n",
       "      <td>4</td>\n",
       "      <td>1.6</td>\n",
       "      <td>4</td>\n",
       "      <td>0</td>\n",
       "      <td>0</td>\n",
       "      <td>0</td>\n",
       "    </tr>\n",
       "    <tr>\n",
       "      <th>803</th>\n",
       "      <td>8638.930895</td>\n",
       "      <td>25216</td>\n",
       "      <td>Chevrolet</td>\n",
       "      <td>AVEO</td>\n",
       "      <td>SVM Sedan 4D</td>\n",
       "      <td>Sedan</td>\n",
       "      <td>4</td>\n",
       "      <td>1.6</td>\n",
       "      <td>4</td>\n",
       "      <td>0</td>\n",
       "      <td>0</td>\n",
       "      <td>0</td>\n",
       "    </tr>\n",
       "  </tbody>\n",
       "</table>\n",
       "<p>804 rows × 12 columns</p>\n",
       "</div>"
      ],
      "text/plain": [
       "            Price  Mileage       Make   Model              Trim         Type  \\\n",
       "0    70755.466717      583   Cadillac  XLR-V8   Hardtop Conv 2D  Convertible   \n",
       "1    69133.731722     7892   Cadillac  XLR-V8   Hardtop Conv 2D  Convertible   \n",
       "2    68566.187189     6420   Cadillac  XLR-V8   Hardtop Conv 2D  Convertible   \n",
       "3    66374.307040    12021   Cadillac  XLR-V8   Hardtop Conv 2D  Convertible   \n",
       "4    65281.481237    15600   Cadillac  XLR-V8   Hardtop Conv 2D  Convertible   \n",
       "..            ...      ...        ...     ...               ...          ...   \n",
       "799   9220.829677    29992  Chevrolet    AVEO  SVM Hatchback 4D    Hatchback   \n",
       "800   9041.906254    26191  Chevrolet    AVEO      SVM Sedan 4D        Sedan   \n",
       "801   8870.947316    32914  Chevrolet    AVEO      SVM Sedan 4D        Sedan   \n",
       "802   8768.998585    35299  Chevrolet    AVEO      SVM Sedan 4D        Sedan   \n",
       "803   8638.930895    25216  Chevrolet    AVEO      SVM Sedan 4D        Sedan   \n",
       "\n",
       "     Cylinder  Liter  Doors  Cruise  Sound  Leather  \n",
       "0           8    4.6      2       1      1        1  \n",
       "1           8    4.6      2       1      1        1  \n",
       "2           8    4.6      2       1      1        1  \n",
       "3           8    4.6      2       1      1        1  \n",
       "4           8    4.6      2       1      1        1  \n",
       "..        ...    ...    ...     ...    ...      ...  \n",
       "799         4    1.6      4       1      0        1  \n",
       "800         4    1.6      4       0      0        1  \n",
       "801         4    1.6      4       1      1        0  \n",
       "802         4    1.6      4       0      0        0  \n",
       "803         4    1.6      4       0      0        0  \n",
       "\n",
       "[804 rows x 12 columns]"
      ]
     },
     "execution_count": 3,
     "metadata": {},
     "output_type": "execute_result"
    }
   ],
   "source": [
    "df"
   ]
  },
  {
   "cell_type": "markdown",
   "id": "e4c0585a",
   "metadata": {},
   "source": [
    "1. (a)"
   ]
  },
  {
   "cell_type": "code",
   "execution_count": 4,
   "id": "03c38ef9",
   "metadata": {},
   "outputs": [
    {
     "data": {
      "text/plain": [
       "Type\n",
       "Sedan          490\n",
       "Coupe          140\n",
       "Wagon           64\n",
       "Hatchback       60\n",
       "Convertible     50\n",
       "dtype: int64"
      ]
     },
     "execution_count": 4,
     "metadata": {},
     "output_type": "execute_result"
    }
   ],
   "source": [
    "df.value_counts('Type')"
   ]
  },
  {
   "cell_type": "markdown",
   "id": "a5fc7fc0",
   "metadata": {},
   "source": [
    "(b)"
   ]
  },
  {
   "cell_type": "code",
   "execution_count": 5,
   "id": "411b1059",
   "metadata": {},
   "outputs": [
    {
     "data": {
      "text/plain": [
       "Make\n",
       "Chevrolet    320\n",
       "Pontiac      150\n",
       "SAAB         114\n",
       "Buick         80\n",
       "Cadillac      80\n",
       "Saturn        60\n",
       "dtype: int64"
      ]
     },
     "execution_count": 5,
     "metadata": {},
     "output_type": "execute_result"
    }
   ],
   "source": [
    "df.value_counts('Make')"
   ]
  },
  {
   "cell_type": "markdown",
   "id": "ef9ef0b5",
   "metadata": {},
   "source": [
    "2. "
   ]
  },
  {
   "cell_type": "code",
   "execution_count": 6,
   "id": "a3c16ba6",
   "metadata": {},
   "outputs": [
    {
     "data": {
      "text/plain": [
       "Trim\n",
       "Sedan 4D               170\n",
       "LS Sedan 4D             50\n",
       "Coupe 2D                50\n",
       "LS Coupe 2D             30\n",
       "LT Sedan 4D             30\n",
       "GT Sedan 4D             20\n",
       "SE Sedan 4D             20\n",
       "Quad Coupe 2D           20\n",
       "Aero Sedan 4D           20\n",
       "Arc Sedan 4D            20\n",
       "Linear Wagon 4D         14\n",
       "SS Sedan 4D             10\n",
       "Linear Conv 2D          10\n",
       "LT Coupe 2D             10\n",
       "LT Hatchback 4D         10\n",
       "LT MAXX Hback 4D        10\n",
       "Special Ed Ultra 4D     10\n",
       "Limited Sedan 4D        10\n",
       "Linear Sedan 4D         10\n",
       "SS Coupe 2D             10\n",
       "MAXX Hback 4D           10\n",
       "LS Sport Sedan 4D       10\n",
       "SVM Sedan 4D            10\n",
       "SVM Hatchback 4D        10\n",
       "SLE Sedan 4D            10\n",
       "AWD Sportwagon 4D       10\n",
       "LS Hatchback 4D         10\n",
       "LS Sport Coupe 2D       10\n",
       "LS MAXX Hback 4D        10\n",
       "Aero Wagon 4D           10\n",
       "Arc Conv 2D             10\n",
       "Arc Wagon 4D            10\n",
       "CX Sedan 4D             10\n",
       "CXL Sedan 4D            10\n",
       "CXS Sedan 4D            10\n",
       "Conv 2D                 10\n",
       "Custom Sedan 4D         10\n",
       "DHS Sedan 4D            10\n",
       "DTS Sedan 4D            10\n",
       "GT Coupe 2D             10\n",
       "GT Sportwagon           10\n",
       "GTP Sedan 4D            10\n",
       "GXP Sedan 4D            10\n",
       "Hardtop Conv 2D         10\n",
       "L300 Sedan 4D           10\n",
       "Aero Conv 2D            10\n",
       "Sportwagon 4D           10\n",
       "dtype: int64"
      ]
     },
     "execution_count": 6,
     "metadata": {},
     "output_type": "execute_result"
    }
   ],
   "source": [
    "df.value_counts('Trim',ascending = False)"
   ]
  },
  {
   "cell_type": "markdown",
   "id": "cdc8f06c",
   "metadata": {},
   "source": [
    "3."
   ]
  },
  {
   "cell_type": "code",
   "execution_count": 7,
   "id": "e8a0e810",
   "metadata": {},
   "outputs": [
    {
     "data": {
      "text/plain": [
       "Model\n",
       "XLR-V8         62938.736572\n",
       "CST-V          45022.924436\n",
       "STS-V8         42984.448195\n",
       "Corvette       39155.712375\n",
       "STS-V6         37374.584290\n",
       "Deville        36238.281772\n",
       "CTS            30455.144774\n",
       "9_3 HO         30429.581085\n",
       "9_5            30023.924244\n",
       "GTO            29130.247052\n",
       "9_3            29047.756011\n",
       "9_5 HO         28184.822515\n",
       "9-2X AWD       24960.948265\n",
       "Park Avenue    24015.453468\n",
       "Lacrosse       21077.860162\n",
       "Bonneville     20896.373454\n",
       "Impala         19923.092805\n",
       "Monte Carlo    19841.957500\n",
       "G6             19652.267843\n",
       "Lesabre        19633.447769\n",
       "Grand Prix     17890.346792\n",
       "Malibu         17166.928256\n",
       "L Series       16550.926211\n",
       "Century        15989.528107\n",
       "Vibe           15881.386094\n",
       "Grand Am       15579.709258\n",
       "Cobalt         13952.927593\n",
       "Classic        13597.916169\n",
       "Ion            13464.383830\n",
       "Cavalier       12865.913327\n",
       "Sunfire        12582.986048\n",
       "AVEO           10752.833305\n",
       "Name: Price, dtype: float64"
      ]
     },
     "execution_count": 7,
     "metadata": {},
     "output_type": "execute_result"
    }
   ],
   "source": [
    "df.groupby('Model')['Price'].agg('mean').sort_values(ascending = False)"
   ]
  },
  {
   "cell_type": "markdown",
   "id": "7417e1fe",
   "metadata": {},
   "source": [
    "4."
   ]
  },
  {
   "cell_type": "code",
   "execution_count": 8,
   "id": "ee8045aa",
   "metadata": {},
   "outputs": [
    {
     "data": {
      "text/plain": [
       "3473.46"
      ]
     },
     "execution_count": 8,
     "metadata": {},
     "output_type": "execute_result"
    }
   ],
   "source": [
    "np.round(df.groupby('Leather')['Price'].agg('mean').max()\\\n",
    "-df.groupby('Leather')['Price'].agg('mean').min(),2)"
   ]
  },
  {
   "cell_type": "markdown",
   "id": "27f2a0e9",
   "metadata": {},
   "source": [
    "5."
   ]
  },
  {
   "cell_type": "code",
   "execution_count": 9,
   "id": "721ac0f1",
   "metadata": {},
   "outputs": [
    {
     "data": {
      "text/plain": [
       "19575.33"
      ]
     },
     "execution_count": 9,
     "metadata": {},
     "output_type": "execute_result"
    }
   ],
   "source": [
    "df.Mileage[df.Liter > 4.5].mean()"
   ]
  },
  {
   "cell_type": "markdown",
   "id": "7efd34b6",
   "metadata": {},
   "source": [
    "6. "
   ]
  },
  {
   "cell_type": "code",
   "execution_count": 10,
   "id": "90ed8958",
   "metadata": {},
   "outputs": [
    {
     "data": {
      "text/plain": [
       "23159.43"
      ]
     },
     "execution_count": 10,
     "metadata": {},
     "output_type": "execute_result"
    }
   ],
   "source": [
    "np.round(df.Price[ (df.Cylinder >= 6) & (df.Mileage > 20000)].mean(),2)"
   ]
  },
  {
   "cell_type": "markdown",
   "id": "ab58158f",
   "metadata": {},
   "source": [
    "7. "
   ]
  },
  {
   "cell_type": "code",
   "execution_count": 11,
   "id": "ba6366ca",
   "metadata": {},
   "outputs": [
    {
     "data": {
      "text/html": [
       "<div>\n",
       "<style scoped>\n",
       "    .dataframe tbody tr th:only-of-type {\n",
       "        vertical-align: middle;\n",
       "    }\n",
       "\n",
       "    .dataframe tbody tr th {\n",
       "        vertical-align: top;\n",
       "    }\n",
       "\n",
       "    .dataframe thead th {\n",
       "        text-align: right;\n",
       "    }\n",
       "</style>\n",
       "<table border=\"1\" class=\"dataframe\">\n",
       "  <thead>\n",
       "    <tr style=\"text-align: right;\">\n",
       "      <th></th>\n",
       "      <th>Price</th>\n",
       "    </tr>\n",
       "    <tr>\n",
       "      <th>Type</th>\n",
       "      <th></th>\n",
       "    </tr>\n",
       "  </thead>\n",
       "  <tbody>\n",
       "    <tr>\n",
       "      <th>Convertible</th>\n",
       "      <td>40831.705847</td>\n",
       "    </tr>\n",
       "    <tr>\n",
       "      <th>Coupe</th>\n",
       "      <td>17726.931831</td>\n",
       "    </tr>\n",
       "    <tr>\n",
       "      <th>Hatchback</th>\n",
       "      <td>14170.927809</td>\n",
       "    </tr>\n",
       "    <tr>\n",
       "      <th>Sedan</th>\n",
       "      <td>21067.927487</td>\n",
       "    </tr>\n",
       "    <tr>\n",
       "      <th>Wagon</th>\n",
       "      <td>22859.245356</td>\n",
       "    </tr>\n",
       "  </tbody>\n",
       "</table>\n",
       "</div>"
      ],
      "text/plain": [
       "                    Price\n",
       "Type                     \n",
       "Convertible  40831.705847\n",
       "Coupe        17726.931831\n",
       "Hatchback    14170.927809\n",
       "Sedan        21067.927487\n",
       "Wagon        22859.245356"
      ]
     },
     "execution_count": 11,
     "metadata": {},
     "output_type": "execute_result"
    }
   ],
   "source": [
    "df.pivot_table(values = 'Price',index = 'Type',aggfunc = np.mean)\n"
   ]
  },
  {
   "cell_type": "code",
   "execution_count": 12,
   "id": "d27ced01",
   "metadata": {},
   "outputs": [
    {
     "data": {
      "text/html": [
       "<div>\n",
       "<style scoped>\n",
       "    .dataframe tbody tr th:only-of-type {\n",
       "        vertical-align: middle;\n",
       "    }\n",
       "\n",
       "    .dataframe tbody tr th {\n",
       "        vertical-align: top;\n",
       "    }\n",
       "\n",
       "    .dataframe thead th {\n",
       "        text-align: right;\n",
       "    }\n",
       "</style>\n",
       "<table border=\"1\" class=\"dataframe\">\n",
       "  <thead>\n",
       "    <tr style=\"text-align: right;\">\n",
       "      <th></th>\n",
       "      <th>Price</th>\n",
       "    </tr>\n",
       "    <tr>\n",
       "      <th>Type</th>\n",
       "      <th></th>\n",
       "    </tr>\n",
       "  </thead>\n",
       "  <tbody>\n",
       "    <tr>\n",
       "      <th>Convertible</th>\n",
       "      <td>35980.445412</td>\n",
       "    </tr>\n",
       "    <tr>\n",
       "      <th>Coupe</th>\n",
       "      <td>14737.070166</td>\n",
       "    </tr>\n",
       "    <tr>\n",
       "      <th>Hatchback</th>\n",
       "      <td>13539.010853</td>\n",
       "    </tr>\n",
       "    <tr>\n",
       "      <th>Sedan</th>\n",
       "      <td>18884.500144</td>\n",
       "    </tr>\n",
       "    <tr>\n",
       "      <th>Wagon</th>\n",
       "      <td>24116.342997</td>\n",
       "    </tr>\n",
       "  </tbody>\n",
       "</table>\n",
       "</div>"
      ],
      "text/plain": [
       "                    Price\n",
       "Type                     \n",
       "Convertible  35980.445412\n",
       "Coupe        14737.070166\n",
       "Hatchback    13539.010853\n",
       "Sedan        18884.500144\n",
       "Wagon        24116.342997"
      ]
     },
     "execution_count": 12,
     "metadata": {},
     "output_type": "execute_result"
    }
   ],
   "source": [
    "df.pivot_table(values = 'Price',index = 'Type',aggfunc = np.median)"
   ]
  },
  {
   "cell_type": "markdown",
   "id": "64d16726",
   "metadata": {},
   "source": [
    "8."
   ]
  },
  {
   "cell_type": "code",
   "execution_count": 13,
   "id": "7e2afd80",
   "metadata": {},
   "outputs": [
    {
     "data": {
      "text/html": [
       "<div>\n",
       "<style scoped>\n",
       "    .dataframe tbody tr th:only-of-type {\n",
       "        vertical-align: middle;\n",
       "    }\n",
       "\n",
       "    .dataframe tbody tr th {\n",
       "        vertical-align: top;\n",
       "    }\n",
       "\n",
       "    .dataframe thead th {\n",
       "        text-align: right;\n",
       "    }\n",
       "</style>\n",
       "<table border=\"1\" class=\"dataframe\">\n",
       "  <thead>\n",
       "    <tr style=\"text-align: right;\">\n",
       "      <th></th>\n",
       "      <th>Price</th>\n",
       "      <th>Mileage</th>\n",
       "      <th>Make</th>\n",
       "      <th>Model</th>\n",
       "      <th>Trim</th>\n",
       "      <th>Type</th>\n",
       "      <th>Cylinder</th>\n",
       "      <th>Liter</th>\n",
       "      <th>Doors</th>\n",
       "      <th>Cruise</th>\n",
       "      <th>Sound</th>\n",
       "      <th>Leather</th>\n",
       "    </tr>\n",
       "  </thead>\n",
       "  <tbody>\n",
       "    <tr>\n",
       "      <th>170</th>\n",
       "      <td>28502.306109</td>\n",
       "      <td>27199</td>\n",
       "      <td>Pontiac</td>\n",
       "      <td>GTO</td>\n",
       "      <td>Coupe 2D</td>\n",
       "      <td>Coupe</td>\n",
       "      <td>8</td>\n",
       "      <td>5.7</td>\n",
       "      <td>2</td>\n",
       "      <td>1</td>\n",
       "      <td>1</td>\n",
       "      <td>1</td>\n",
       "    </tr>\n",
       "  </tbody>\n",
       "</table>\n",
       "</div>"
      ],
      "text/plain": [
       "            Price  Mileage     Make Model      Trim   Type  Cylinder  Liter  \\\n",
       "170  28502.306109    27199  Pontiac   GTO  Coupe 2D  Coupe         8    5.7   \n",
       "\n",
       "     Doors  Cruise  Sound  Leather  \n",
       "170      2       1      1        1  "
      ]
     },
     "execution_count": 13,
     "metadata": {},
     "output_type": "execute_result"
    }
   ],
   "source": [
    "df[ (df.Mileage >= 25000) & (df.Make == 'Pontiac')]\\\n",
    ".sort_values(by = 'Price', ascending = False)[:1]"
   ]
  },
  {
   "cell_type": "markdown",
   "id": "6d760576",
   "metadata": {},
   "source": [
    "9. "
   ]
  },
  {
   "cell_type": "code",
   "execution_count": 14,
   "id": "62f14b3e",
   "metadata": {},
   "outputs": [
    {
     "data": {
      "text/html": [
       "<div>\n",
       "<style scoped>\n",
       "    .dataframe tbody tr th:only-of-type {\n",
       "        vertical-align: middle;\n",
       "    }\n",
       "\n",
       "    .dataframe tbody tr th {\n",
       "        vertical-align: top;\n",
       "    }\n",
       "\n",
       "    .dataframe thead th {\n",
       "        text-align: right;\n",
       "    }\n",
       "</style>\n",
       "<table border=\"1\" class=\"dataframe\">\n",
       "  <thead>\n",
       "    <tr style=\"text-align: right;\">\n",
       "      <th></th>\n",
       "      <th>Doors</th>\n",
       "      <th>Sound</th>\n",
       "      <th>Number</th>\n",
       "    </tr>\n",
       "  </thead>\n",
       "  <tbody>\n",
       "    <tr>\n",
       "      <th>0</th>\n",
       "      <td>2</td>\n",
       "      <td>0</td>\n",
       "      <td>51</td>\n",
       "    </tr>\n",
       "    <tr>\n",
       "      <th>1</th>\n",
       "      <td>2</td>\n",
       "      <td>1</td>\n",
       "      <td>139</td>\n",
       "    </tr>\n",
       "    <tr>\n",
       "      <th>2</th>\n",
       "      <td>4</td>\n",
       "      <td>0</td>\n",
       "      <td>207</td>\n",
       "    </tr>\n",
       "    <tr>\n",
       "      <th>3</th>\n",
       "      <td>4</td>\n",
       "      <td>1</td>\n",
       "      <td>407</td>\n",
       "    </tr>\n",
       "  </tbody>\n",
       "</table>\n",
       "</div>"
      ],
      "text/plain": [
       "   Doors  Sound  Number\n",
       "0      2      0      51\n",
       "1      2      1     139\n",
       "2      4      0     207\n",
       "3      4      1     407"
      ]
     },
     "execution_count": 14,
     "metadata": {},
     "output_type": "execute_result"
    }
   ],
   "source": [
    "df1 = df.groupby(['Doors','Sound'], as_index = False)\\\n",
    "            ['Price'].agg('count')\n",
    "df1.columns = ['Doors','Sound','Number']\n",
    "df1"
   ]
  },
  {
   "cell_type": "markdown",
   "id": "c8a9a327",
   "metadata": {},
   "source": [
    "10. "
   ]
  },
  {
   "cell_type": "code",
   "execution_count": 15,
   "id": "013a2d39",
   "metadata": {},
   "outputs": [
    {
     "name": "stderr",
     "output_type": "stream",
     "text": [
      "<ipython-input-15-a66fdaeb6317>:1: FutureWarning: Indexing with multiple keys (implicitly converted to a tuple of keys) will be deprecated, use a list instead.\n",
      "  df.groupby(['Make','Type'])['Price','Mileage'].agg('mean')\n"
     ]
    },
    {
     "data": {
      "text/html": [
       "<div>\n",
       "<style scoped>\n",
       "    .dataframe tbody tr th:only-of-type {\n",
       "        vertical-align: middle;\n",
       "    }\n",
       "\n",
       "    .dataframe tbody tr th {\n",
       "        vertical-align: top;\n",
       "    }\n",
       "\n",
       "    .dataframe thead th {\n",
       "        text-align: right;\n",
       "    }\n",
       "</style>\n",
       "<table border=\"1\" class=\"dataframe\">\n",
       "  <thead>\n",
       "    <tr style=\"text-align: right;\">\n",
       "      <th></th>\n",
       "      <th></th>\n",
       "      <th>Price</th>\n",
       "      <th>Mileage</th>\n",
       "    </tr>\n",
       "    <tr>\n",
       "      <th>Make</th>\n",
       "      <th>Type</th>\n",
       "      <th></th>\n",
       "      <th></th>\n",
       "    </tr>\n",
       "  </thead>\n",
       "  <tbody>\n",
       "    <tr>\n",
       "      <th>Buick</th>\n",
       "      <th>Sedan</th>\n",
       "      <td>20815.113883</td>\n",
       "      <td>20428.100000</td>\n",
       "    </tr>\n",
       "    <tr>\n",
       "      <th rowspan=\"2\" valign=\"top\">Cadillac</th>\n",
       "      <th>Convertible</th>\n",
       "      <td>62938.736572</td>\n",
       "      <td>18766.500000</td>\n",
       "    </tr>\n",
       "    <tr>\n",
       "      <th>Sedan</th>\n",
       "      <td>37793.135287</td>\n",
       "      <td>18928.857143</td>\n",
       "    </tr>\n",
       "    <tr>\n",
       "      <th rowspan=\"4\" valign=\"top\">Chevrolet</th>\n",
       "      <th>Convertible</th>\n",
       "      <td>41501.592957</td>\n",
       "      <td>19302.100000</td>\n",
       "    </tr>\n",
       "    <tr>\n",
       "      <th>Coupe</th>\n",
       "      <td>17933.203409</td>\n",
       "      <td>19933.822222</td>\n",
       "    </tr>\n",
       "    <tr>\n",
       "      <th>Hatchback</th>\n",
       "      <td>14170.927809</td>\n",
       "      <td>19090.883333</td>\n",
       "    </tr>\n",
       "    <tr>\n",
       "      <th>Sedan</th>\n",
       "      <td>14859.824290</td>\n",
       "      <td>19732.937500</td>\n",
       "    </tr>\n",
       "    <tr>\n",
       "      <th rowspan=\"3\" valign=\"top\">Pontiac</th>\n",
       "      <th>Coupe</th>\n",
       "      <td>19317.108812</td>\n",
       "      <td>18776.900000</td>\n",
       "    </tr>\n",
       "    <tr>\n",
       "      <th>Sedan</th>\n",
       "      <td>18954.002401</td>\n",
       "      <td>19387.444444</td>\n",
       "    </tr>\n",
       "    <tr>\n",
       "      <th>Wagon</th>\n",
       "      <td>15881.386094</td>\n",
       "      <td>19664.066667</td>\n",
       "    </tr>\n",
       "    <tr>\n",
       "      <th rowspan=\"3\" valign=\"top\">SAAB</th>\n",
       "      <th>Convertible</th>\n",
       "      <td>33239.399902</td>\n",
       "      <td>21818.233333</td>\n",
       "    </tr>\n",
       "    <tr>\n",
       "      <th>Sedan</th>\n",
       "      <td>27573.284345</td>\n",
       "      <td>20157.660000</td>\n",
       "    </tr>\n",
       "    <tr>\n",
       "      <th>Wagon</th>\n",
       "      <td>29016.179999</td>\n",
       "      <td>21396.470588</td>\n",
       "    </tr>\n",
       "    <tr>\n",
       "      <th rowspan=\"2\" valign=\"top\">Saturn</th>\n",
       "      <th>Coupe</th>\n",
       "      <td>14413.444263</td>\n",
       "      <td>21144.500000</td>\n",
       "    </tr>\n",
       "    <tr>\n",
       "      <th>Sedan</th>\n",
       "      <td>13761.489209</td>\n",
       "      <td>19931.375000</td>\n",
       "    </tr>\n",
       "  </tbody>\n",
       "</table>\n",
       "</div>"
      ],
      "text/plain": [
       "                              Price       Mileage\n",
       "Make      Type                                   \n",
       "Buick     Sedan        20815.113883  20428.100000\n",
       "Cadillac  Convertible  62938.736572  18766.500000\n",
       "          Sedan        37793.135287  18928.857143\n",
       "Chevrolet Convertible  41501.592957  19302.100000\n",
       "          Coupe        17933.203409  19933.822222\n",
       "          Hatchback    14170.927809  19090.883333\n",
       "          Sedan        14859.824290  19732.937500\n",
       "Pontiac   Coupe        19317.108812  18776.900000\n",
       "          Sedan        18954.002401  19387.444444\n",
       "          Wagon        15881.386094  19664.066667\n",
       "SAAB      Convertible  33239.399902  21818.233333\n",
       "          Sedan        27573.284345  20157.660000\n",
       "          Wagon        29016.179999  21396.470588\n",
       "Saturn    Coupe        14413.444263  21144.500000\n",
       "          Sedan        13761.489209  19931.375000"
      ]
     },
     "execution_count": 15,
     "metadata": {},
     "output_type": "execute_result"
    }
   ],
   "source": [
    "df.groupby(['Make','Type'])['Price','Mileage'].agg('mean')"
   ]
  },
  {
   "cell_type": "code",
   "execution_count": null,
   "id": "30c4935d",
   "metadata": {},
   "outputs": [],
   "source": []
  }
 ],
 "metadata": {
  "kernelspec": {
   "display_name": "Python 3",
   "language": "python",
   "name": "python3"
  },
  "language_info": {
   "codemirror_mode": {
    "name": "ipython",
    "version": 3
   },
   "file_extension": ".py",
   "mimetype": "text/x-python",
   "name": "python",
   "nbconvert_exporter": "python",
   "pygments_lexer": "ipython3",
   "version": "3.8.8"
  }
 },
 "nbformat": 4,
 "nbformat_minor": 5
}
