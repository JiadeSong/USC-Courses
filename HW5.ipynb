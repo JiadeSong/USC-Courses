{
 "cells": [
  {
   "cell_type": "markdown",
   "id": "11f5c5ea",
   "metadata": {},
   "source": [
    "Jiade Song"
   ]
  },
  {
   "cell_type": "markdown",
   "id": "6f7d16c9",
   "metadata": {},
   "source": [
    "USC ID: 9019610285"
   ]
  },
  {
   "cell_type": "code",
   "execution_count": 2,
   "id": "122cf988",
   "metadata": {},
   "outputs": [],
   "source": [
    "import pandas as pd\n",
    "import numpy as np\n",
    "import matplotlib.pyplot as plt"
   ]
  },
  {
   "cell_type": "code",
   "execution_count": 3,
   "id": "dd303085",
   "metadata": {},
   "outputs": [],
   "source": [
    "from sklearn.model_selection import train_test_split\n",
    "from sklearn.linear_model import Ridge, RidgeCV, Lasso, LassoCV\n",
    "from sklearn.metrics import mean_squared_error\n",
    "from sklearn.linear_model import LogisticRegression"
   ]
  },
  {
   "cell_type": "code",
   "execution_count": 4,
   "id": "367e7215",
   "metadata": {},
   "outputs": [
    {
     "data": {
      "text/plain": [
       "(500, 3)"
      ]
     },
     "execution_count": 4,
     "metadata": {},
     "output_type": "execute_result"
    }
   ],
   "source": [
    "df = pd.read_csv('dataset.csv')\n",
    "df.shape"
   ]
  },
  {
   "cell_type": "code",
   "execution_count": 5,
   "id": "1eb59b04",
   "metadata": {},
   "outputs": [],
   "source": [
    "y = df.y\n",
    "x = df[['x1','x2']]"
   ]
  },
  {
   "cell_type": "code",
   "execution_count": 6,
   "id": "16ad70bd",
   "metadata": {},
   "outputs": [],
   "source": [
    "X_train,X_test,y_train,y_test = train_test_split(x,y,\\\n",
    "test_size=0.6, stratify = y, random_state = 0)"
   ]
  },
  {
   "cell_type": "markdown",
   "id": "074f16ed",
   "metadata": {},
   "source": [
    "## a)"
   ]
  },
  {
   "cell_type": "code",
   "execution_count": 7,
   "id": "8198742a",
   "metadata": {},
   "outputs": [
    {
     "data": {
      "text/html": [
       "<div>\n",
       "<style scoped>\n",
       "    .dataframe tbody tr th:only-of-type {\n",
       "        vertical-align: middle;\n",
       "    }\n",
       "\n",
       "    .dataframe tbody tr th {\n",
       "        vertical-align: top;\n",
       "    }\n",
       "\n",
       "    .dataframe thead th {\n",
       "        text-align: right;\n",
       "    }\n",
       "</style>\n",
       "<table border=\"1\" class=\"dataframe\">\n",
       "  <thead>\n",
       "    <tr style=\"text-align: right;\">\n",
       "      <th></th>\n",
       "      <th>x1</th>\n",
       "      <th>x2</th>\n",
       "      <th>yy</th>\n",
       "    </tr>\n",
       "  </thead>\n",
       "  <tbody>\n",
       "    <tr>\n",
       "      <th>296</th>\n",
       "      <td>-0.400831</td>\n",
       "      <td>-0.262735</td>\n",
       "      <td>1</td>\n",
       "    </tr>\n",
       "    <tr>\n",
       "      <th>175</th>\n",
       "      <td>0.395445</td>\n",
       "      <td>-0.080027</td>\n",
       "      <td>1</td>\n",
       "    </tr>\n",
       "    <tr>\n",
       "      <th>354</th>\n",
       "      <td>0.481018</td>\n",
       "      <td>-0.282178</td>\n",
       "      <td>1</td>\n",
       "    </tr>\n",
       "    <tr>\n",
       "      <th>396</th>\n",
       "      <td>0.159821</td>\n",
       "      <td>0.093595</td>\n",
       "      <td>0</td>\n",
       "    </tr>\n",
       "    <tr>\n",
       "      <th>158</th>\n",
       "      <td>-0.222244</td>\n",
       "      <td>0.251504</td>\n",
       "      <td>0</td>\n",
       "    </tr>\n",
       "    <tr>\n",
       "      <th>85</th>\n",
       "      <td>-0.297308</td>\n",
       "      <td>-0.084682</td>\n",
       "      <td>1</td>\n",
       "    </tr>\n",
       "    <tr>\n",
       "      <th>416</th>\n",
       "      <td>-0.005345</td>\n",
       "      <td>-0.342398</td>\n",
       "      <td>0</td>\n",
       "    </tr>\n",
       "    <tr>\n",
       "      <th>38</th>\n",
       "      <td>0.223711</td>\n",
       "      <td>-0.326347</td>\n",
       "      <td>0</td>\n",
       "    </tr>\n",
       "    <tr>\n",
       "      <th>166</th>\n",
       "      <td>-0.436192</td>\n",
       "      <td>0.413785</td>\n",
       "      <td>0</td>\n",
       "    </tr>\n",
       "    <tr>\n",
       "      <th>432</th>\n",
       "      <td>-0.121241</td>\n",
       "      <td>-0.259877</td>\n",
       "      <td>0</td>\n",
       "    </tr>\n",
       "  </tbody>\n",
       "</table>\n",
       "</div>"
      ],
      "text/plain": [
       "           x1        x2  yy\n",
       "296 -0.400831 -0.262735   1\n",
       "175  0.395445 -0.080027   1\n",
       "354  0.481018 -0.282178   1\n",
       "396  0.159821  0.093595   0\n",
       "158 -0.222244  0.251504   0\n",
       "85  -0.297308 -0.084682   1\n",
       "416 -0.005345 -0.342398   0\n",
       "38   0.223711 -0.326347   0\n",
       "166 -0.436192  0.413785   0\n",
       "432 -0.121241 -0.259877   0"
      ]
     },
     "execution_count": 7,
     "metadata": {},
     "output_type": "execute_result"
    }
   ],
   "source": [
    "xy_train = X_train.copy()\n",
    "xy_train['yy'] = y_train\n",
    "xy_train[:10]"
   ]
  },
  {
   "cell_type": "code",
   "execution_count": 8,
   "id": "23528a31",
   "metadata": {},
   "outputs": [],
   "source": [
    "xy_train_1 = xy_train[xy_train.yy == 1]\n",
    "xy_train_0 = xy_train[xy_train.yy == 0]"
   ]
  },
  {
   "cell_type": "code",
   "execution_count": 19,
   "id": "2421d7de",
   "metadata": {},
   "outputs": [
    {
     "data": {
      "image/png": "[encoded data removed]",
      "text/plain": [
       "<Figure size 504x504 with 1 Axes>"
      ]
     },
     "metadata": {
      "needs_background": "light"
     },
     "output_type": "display_data"
    }
   ],
   "source": [
    "plt.figure(figsize = (7,7))\n",
    "plt.scatter(xy_train_1.x1,xy_train_1.x2,c='r',\\\n",
    "            s=7,label = 'y=1')\n",
    "plt.scatter(xy_train_0.x1,xy_train_0.x2,c='k',\\\n",
    "            s=7,label = 'y=0')\n",
    "\n",
    "plt.legend()\n",
    "plt.xlabel('x1')\n",
    "plt.ylabel('x2')\n",
    "plt.grid()"
   ]
  },
  {
   "cell_type": "markdown",
   "id": "5fbaf2c8",
   "metadata": {},
   "source": [
    "## b)"
   ]
  },
  {
   "cell_type": "code",
   "execution_count": 10,
   "id": "faf7d293",
   "metadata": {},
   "outputs": [
    {
     "data": {
      "text/plain": [
       "LogisticRegression(C=1e+20)"
      ]
     },
     "execution_count": 10,
     "metadata": {},
     "output_type": "execute_result"
    }
   ],
   "source": [
    "m1 = LogisticRegression(solver = 'lbfgs', C=1e20)\n",
    "m1.fit(X_train,y_train)"
   ]
  },
  {
   "cell_type": "code",
   "execution_count": 11,
   "id": "f7bdc40b",
   "metadata": {},
   "outputs": [
    {
     "data": {
      "text/plain": [
       "0.63"
      ]
     },
     "execution_count": 11,
     "metadata": {},
     "output_type": "execute_result"
    }
   ],
   "source": [
    "yhat = m1.predict(X_test)\n",
    "m1.score(X_test,y_test)"
   ]
  },
  {
   "cell_type": "markdown",
   "id": "b74d1053",
   "metadata": {},
   "source": [
    "The test accuracy rate is 0.63."
   ]
  },
  {
   "cell_type": "markdown",
   "id": "5d3e080b",
   "metadata": {},
   "source": [
    "## c)"
   ]
  },
  {
   "cell_type": "code",
   "execution_count": 12,
   "id": "323291e2",
   "metadata": {},
   "outputs": [
    {
     "data": {
      "text/html": [
       "<div>\n",
       "<style scoped>\n",
       "    .dataframe tbody tr th:only-of-type {\n",
       "        vertical-align: middle;\n",
       "    }\n",
       "\n",
       "    .dataframe tbody tr th {\n",
       "        vertical-align: top;\n",
       "    }\n",
       "\n",
       "    .dataframe thead th {\n",
       "        text-align: right;\n",
       "    }\n",
       "</style>\n",
       "<table border=\"1\" class=\"dataframe\">\n",
       "  <thead>\n",
       "    <tr style=\"text-align: right;\">\n",
       "      <th></th>\n",
       "      <th>x1</th>\n",
       "      <th>x2</th>\n",
       "      <th>sqx1</th>\n",
       "      <th>sqx2</th>\n",
       "    </tr>\n",
       "  </thead>\n",
       "  <tbody>\n",
       "    <tr>\n",
       "      <th>296</th>\n",
       "      <td>-0.400831</td>\n",
       "      <td>-0.262735</td>\n",
       "      <td>0.160665</td>\n",
       "      <td>0.069030</td>\n",
       "    </tr>\n",
       "    <tr>\n",
       "      <th>175</th>\n",
       "      <td>0.395445</td>\n",
       "      <td>-0.080027</td>\n",
       "      <td>0.156377</td>\n",
       "      <td>0.006404</td>\n",
       "    </tr>\n",
       "    <tr>\n",
       "      <th>354</th>\n",
       "      <td>0.481018</td>\n",
       "      <td>-0.282178</td>\n",
       "      <td>0.231378</td>\n",
       "      <td>0.079624</td>\n",
       "    </tr>\n",
       "    <tr>\n",
       "      <th>396</th>\n",
       "      <td>0.159821</td>\n",
       "      <td>0.093595</td>\n",
       "      <td>0.025543</td>\n",
       "      <td>0.008760</td>\n",
       "    </tr>\n",
       "    <tr>\n",
       "      <th>158</th>\n",
       "      <td>-0.222244</td>\n",
       "      <td>0.251504</td>\n",
       "      <td>0.049392</td>\n",
       "      <td>0.063254</td>\n",
       "    </tr>\n",
       "    <tr>\n",
       "      <th>85</th>\n",
       "      <td>-0.297308</td>\n",
       "      <td>-0.084682</td>\n",
       "      <td>0.088392</td>\n",
       "      <td>0.007171</td>\n",
       "    </tr>\n",
       "    <tr>\n",
       "      <th>416</th>\n",
       "      <td>-0.005345</td>\n",
       "      <td>-0.342398</td>\n",
       "      <td>0.000029</td>\n",
       "      <td>0.117236</td>\n",
       "    </tr>\n",
       "    <tr>\n",
       "      <th>38</th>\n",
       "      <td>0.223711</td>\n",
       "      <td>-0.326347</td>\n",
       "      <td>0.050047</td>\n",
       "      <td>0.106503</td>\n",
       "    </tr>\n",
       "    <tr>\n",
       "      <th>166</th>\n",
       "      <td>-0.436192</td>\n",
       "      <td>0.413785</td>\n",
       "      <td>0.190263</td>\n",
       "      <td>0.171218</td>\n",
       "    </tr>\n",
       "    <tr>\n",
       "      <th>432</th>\n",
       "      <td>-0.121241</td>\n",
       "      <td>-0.259877</td>\n",
       "      <td>0.014699</td>\n",
       "      <td>0.067536</td>\n",
       "    </tr>\n",
       "  </tbody>\n",
       "</table>\n",
       "</div>"
      ],
      "text/plain": [
       "           x1        x2      sqx1      sqx2\n",
       "296 -0.400831 -0.262735  0.160665  0.069030\n",
       "175  0.395445 -0.080027  0.156377  0.006404\n",
       "354  0.481018 -0.282178  0.231378  0.079624\n",
       "396  0.159821  0.093595  0.025543  0.008760\n",
       "158 -0.222244  0.251504  0.049392  0.063254\n",
       "85  -0.297308 -0.084682  0.088392  0.007171\n",
       "416 -0.005345 -0.342398  0.000029  0.117236\n",
       "38   0.223711 -0.326347  0.050047  0.106503\n",
       "166 -0.436192  0.413785  0.190263  0.171218\n",
       "432 -0.121241 -0.259877  0.014699  0.067536"
      ]
     },
     "execution_count": 12,
     "metadata": {},
     "output_type": "execute_result"
    }
   ],
   "source": [
    "X_train_sq = X_train.copy()\n",
    "X_train_sq['sqx1'] = X_train_sq['x1']**2\n",
    "X_train_sq['sqx2'] = X_train_sq['x2']**2\n",
    "X_train_sq[:10]"
   ]
  },
  {
   "cell_type": "code",
   "execution_count": 13,
   "id": "087a927c",
   "metadata": {},
   "outputs": [],
   "source": [
    "X_test_sq = X_test.copy()\n",
    "X_test_sq['sqx1'] = X_test_sq['x1']**2\n",
    "X_test_sq['sqx2'] = X_test_sq['x2']**2"
   ]
  },
  {
   "cell_type": "code",
   "execution_count": 14,
   "id": "a63c0481",
   "metadata": {},
   "outputs": [
    {
     "data": {
      "text/plain": [
       "LogisticRegression(C=1e+20)"
      ]
     },
     "execution_count": 14,
     "metadata": {},
     "output_type": "execute_result"
    }
   ],
   "source": [
    "m2 = LogisticRegression(solver = 'lbfgs', C=1e20)\n",
    "m2.fit(X_train_sq,y_train)"
   ]
  },
  {
   "cell_type": "code",
   "execution_count": 15,
   "id": "1f1176dc",
   "metadata": {},
   "outputs": [
    {
     "data": {
      "text/plain": [
       "0.9866666666666667"
      ]
     },
     "execution_count": 15,
     "metadata": {},
     "output_type": "execute_result"
    }
   ],
   "source": [
    "yhat2 = m2.predict(X_test_sq)\n",
    "m2.score(X_test_sq,y_test)"
   ]
  },
  {
   "cell_type": "markdown",
   "id": "88c01a66",
   "metadata": {},
   "source": [
    "The test accuracy rate is 0.9867"
   ]
  },
  {
   "cell_type": "markdown",
   "id": "b12aff43",
   "metadata": {},
   "source": [
    "## d)"
   ]
  },
  {
   "cell_type": "code",
   "execution_count": 16,
   "id": "21404d18",
   "metadata": {},
   "outputs": [
    {
     "data": {
      "text/plain": [
       "LogisticRegression(C=10)"
      ]
     },
     "execution_count": 16,
     "metadata": {},
     "output_type": "execute_result"
    }
   ],
   "source": [
    "m3 = LogisticRegression(solver = 'lbfgs', C=10)\n",
    "m3.fit(X_train_sq,y_train)"
   ]
  },
  {
   "cell_type": "code",
   "execution_count": 18,
   "id": "8e4628db",
   "metadata": {},
   "outputs": [
    {
     "data": {
      "text/plain": [
       "0.9366666666666666"
      ]
     },
     "execution_count": 18,
     "metadata": {},
     "output_type": "execute_result"
    }
   ],
   "source": [
    "yhat3 = m3.predict(X_test_sq)\n",
    "m3.score(X_test_sq,y_test)"
   ]
  },
  {
   "cell_type": "markdown",
   "id": "17d5759e",
   "metadata": {},
   "source": [
    "The test accuracy rate is 0.9367."
   ]
  }
 ],
 "metadata": {
  "kernelspec": {
   "display_name": "Python 3",
   "language": "python",
   "name": "python3"
  },
  "language_info": {
   "codemirror_mode": {
    "name": "ipython",
    "version": 3
   },
   "file_extension": ".py",
   "mimetype": "text/x-python",
   "name": "python",
   "nbconvert_exporter": "python",
   "pygments_lexer": "ipython3",
   "version": "3.8.8"
  }
 },
 "nbformat": 4,
 "nbformat_minor": 5
}
