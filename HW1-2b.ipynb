{
 "cells": [
  {
   "cell_type": "code",
   "execution_count": 1,
   "id": "534c2de7",
   "metadata": {},
   "outputs": [],
   "source": [
    "import numpy as np\n",
    "import matplotlib.pyplot as plt"
   ]
  },
  {
   "cell_type": "code",
   "execution_count": 2,
   "id": "0a1da51d",
   "metadata": {},
   "outputs": [
    {
     "data": {
      "text/plain": [
       "array([[2.2221e+04, 3.0320e+03, 4.0000e+00, 4.0000e+00, 2.0000e+00,\n",
       "        3.6000e+05],\n",
       "       [2.2912e+04, 2.0580e+03, 4.0000e+00, 2.0000e+00, 2.0000e+00,\n",
       "        3.4000e+05],\n",
       "       [2.1345e+04, 1.7800e+03, 4.0000e+00, 3.0000e+00, 2.0000e+00,\n",
       "        2.5000e+05],\n",
       "       [1.7342e+04, 1.6380e+03, 4.0000e+00, 2.0000e+00, 2.0000e+00,\n",
       "        2.0550e+05],\n",
       "       [2.1786e+04, 2.1960e+03, 4.0000e+00, 3.0000e+00, 2.0000e+00,\n",
       "        2.7550e+05]])"
      ]
     },
     "execution_count": 2,
     "metadata": {},
     "output_type": "execute_result"
    }
   ],
   "source": [
    "array1 = np.genfromtxt('homes.csv',skip_header=1, delimiter = ',',usecols=(7,1,2,3,4,0))\n",
    "array1[:5]"
   ]
  },
  {
   "cell_type": "code",
   "execution_count": 32,
   "id": "ef11ea86",
   "metadata": {},
   "outputs": [
    {
     "data": {
      "text/plain": [
       "array([[2.2221e+04, 3.0320e+03, 4.0000e+00, 4.0000e+00, 2.0000e+00],\n",
       "       [2.2912e+04, 2.0580e+03, 4.0000e+00, 2.0000e+00, 2.0000e+00],\n",
       "       [2.1345e+04, 1.7800e+03, 4.0000e+00, 3.0000e+00, 2.0000e+00],\n",
       "       [1.7342e+04, 1.6380e+03, 4.0000e+00, 2.0000e+00, 2.0000e+00],\n",
       "       [2.1786e+04, 2.1960e+03, 4.0000e+00, 3.0000e+00, 2.0000e+00],\n",
       "       [1.8902e+04, 1.9660e+03, 4.0000e+00, 3.0000e+00, 5.0000e+00],\n",
       "       [1.8639e+04, 2.2160e+03, 3.0000e+00, 2.0000e+00, 2.0000e+00],\n",
       "       [2.2112e+04, 1.5970e+03, 2.0000e+00, 1.0000e+00, 1.0000e+00],\n",
       "       [1.4321e+04, 1.6220e+03, 3.0000e+00, 2.0000e+00, 2.0000e+00],\n",
       "       [3.2358e+04, 1.9760e+03, 3.0000e+00, 3.0000e+00, 1.0000e+00]])"
      ]
     },
     "execution_count": 32,
     "metadata": {},
     "output_type": "execute_result"
    }
   ],
   "source": [
    "x, y = array1[:,0:5], array1[:,5]\n",
    "length=len(x)\n",
    "x[0:10,]"
   ]
  },
  {
   "cell_type": "code",
   "execution_count": null,
   "id": "6479a88d",
   "metadata": {},
   "outputs": [],
   "source": [
    "x1 = np.c_[np.ones(length), x]\n",
    "x1[:5]"
   ]
  },
  {
   "cell_type": "code",
   "execution_count": 93,
   "id": "e15591d7",
   "metadata": {},
   "outputs": [
    {
     "data": {
      "text/plain": [
       "array([[ 3.95354381e-02, -2.32635657e-07, -3.76756460e-06,\n",
       "        -4.84344907e-03,  2.32175909e-03, -6.07446762e-03],\n",
       "       [-2.32635657e-07,  1.45485727e-11, -1.45824966e-11,\n",
       "        -7.82953602e-09, -4.68833483e-09, -2.35182599e-08],\n",
       "       [-3.76756460e-06, -1.45824966e-11,  1.01180074e-08,\n",
       "        -1.18094436e-06, -3.74299516e-06, -2.26833059e-06],\n",
       "       [-4.84344907e-03, -7.82953602e-09, -1.18094436e-06,\n",
       "         2.97768652e-03, -1.07843728e-03,  1.03144822e-04],\n",
       "       [ 2.32175909e-03, -4.68833483e-09, -3.74299516e-06,\n",
       "        -1.07843728e-03,  4.43920039e-03, -8.23847440e-04],\n",
       "       [-6.07446762e-03, -2.35182599e-08, -2.26833059e-06,\n",
       "         1.03144822e-04, -8.23847440e-04,  6.47442651e-03]])"
      ]
     },
     "execution_count": 93,
     "metadata": {},
     "output_type": "execute_result"
    }
   ],
   "source": [
    "b1 = np.dot(x1.T,x1)\n",
    "b1 = np.linalg.inv(b1)\n",
    "b1"
   ]
  },
  {
   "cell_type": "code",
   "execution_count": 94,
   "id": "63090d15",
   "metadata": {},
   "outputs": [
    {
     "data": {
      "text/plain": [
       "array([1.45060745e+08, 3.72329840e+12, 3.69799666e+11, 5.33671316e+08,\n",
       "       4.35496879e+08, 3.31723936e+08])"
      ]
     },
     "execution_count": 94,
     "metadata": {},
     "output_type": "execute_result"
    }
   ],
   "source": [
    "b2 = np.dot(x1.T,y)\n",
    "b2"
   ]
  },
  {
   "cell_type": "code",
   "execution_count": 96,
   "id": "5c088bff",
   "metadata": {},
   "outputs": [
    {
     "data": {
      "text/plain": [
       "array([-1.13113307e+05,  1.00804986e+00,  1.28056651e+02, -1.47934409e+04,\n",
       "        1.96186361e+04,  3.64244996e+04])"
      ]
     },
     "execution_count": 96,
     "metadata": {},
     "output_type": "execute_result"
    }
   ],
   "source": [
    "coeffs = np.dot(b1, b2)\n",
    "coeffs"
   ]
  },
  {
   "cell_type": "code",
   "execution_count": 98,
   "id": "e6c6a1d0",
   "metadata": {},
   "outputs": [
    {
     "data": {
      "text/plain": [
       "array([[-1.13113307e+05],\n",
       "       [ 1.00804986e+00],\n",
       "       [ 1.28056651e+02],\n",
       "       [-1.47934409e+04],\n",
       "       [ 1.96186361e+04],\n",
       "       [ 3.64244996e+04]])"
      ]
     },
     "execution_count": 98,
     "metadata": {},
     "output_type": "execute_result"
    }
   ],
   "source": [
    "coeffs2 = coeffs.reshape(-1,1)\n",
    "coeffs2"
   ]
  },
  {
   "cell_type": "code",
   "execution_count": 39,
   "id": "38170d58",
   "metadata": {},
   "outputs": [
    {
     "data": {
      "text/plain": [
       "22200.0"
      ]
     },
     "execution_count": 39,
     "metadata": {},
     "output_type": "execute_result"
    }
   ],
   "source": [
    "lotsizemedian = np.median(x[:,0])\n",
    "lotsizemedian"
   ]
  },
  {
   "cell_type": "code",
   "execution_count": 40,
   "id": "4ebd35cc",
   "metadata": {},
   "outputs": [
    {
     "data": {
      "text/plain": [
       "2061.0"
      ]
     },
     "execution_count": 40,
     "metadata": {},
     "output_type": "execute_result"
    }
   ],
   "source": [
    "areamedian = np.median(x[:,1])\n",
    "areamedian"
   ]
  },
  {
   "cell_type": "code",
   "execution_count": 41,
   "id": "d0e7cc1f",
   "metadata": {},
   "outputs": [
    {
     "data": {
      "text/plain": [
       "3.0"
      ]
     },
     "execution_count": 41,
     "metadata": {},
     "output_type": "execute_result"
    }
   ],
   "source": [
    "bedmedian = np.median(x[:,2])\n",
    "bedmedian"
   ]
  },
  {
   "cell_type": "code",
   "execution_count": 42,
   "id": "6535368d",
   "metadata": {},
   "outputs": [
    {
     "data": {
      "text/plain": [
       "3.0"
      ]
     },
     "execution_count": 42,
     "metadata": {},
     "output_type": "execute_result"
    }
   ],
   "source": [
    "bathmedian = np.median(x[:,3])\n",
    "bathmedian"
   ]
  },
  {
   "cell_type": "code",
   "execution_count": 43,
   "id": "a95887ef",
   "metadata": {},
   "outputs": [
    {
     "data": {
      "text/plain": [
       "2.0"
      ]
     },
     "execution_count": 43,
     "metadata": {},
     "output_type": "execute_result"
    }
   ],
   "source": [
    "garagemedian = np.median(x[:,4])\n",
    "garagemedian"
   ]
  },
  {
   "cell_type": "code",
   "execution_count": 101,
   "id": "9a35abf7",
   "metadata": {},
   "outputs": [
    {
     "data": {
      "text/plain": [
       "array([[1.000e+00, 2.220e+04, 2.061e+03, 3.000e+00, 3.000e+00, 2.000e+00]])"
      ]
     },
     "execution_count": 101,
     "metadata": {},
     "output_type": "execute_result"
    }
   ],
   "source": [
    "newval = np.array([[1,lotsizemedian,areamedian,bedmedian,bathmedian,garagemedian]])\n",
    "newval"
   ]
  },
  {
   "cell_type": "code",
   "execution_count": 102,
   "id": "115b7e96",
   "metadata": {},
   "outputs": [
    {
     "data": {
      "text/plain": [
       "(1, 6)"
      ]
     },
     "execution_count": 102,
     "metadata": {},
     "output_type": "execute_result"
    }
   ],
   "source": [
    "newval.shape"
   ]
  },
  {
   "cell_type": "code",
   "execution_count": 103,
   "id": "e079aaf7",
   "metadata": {},
   "outputs": [
    {
     "data": {
      "text/plain": [
       "array([[260514.74311249]])"
      ]
     },
     "execution_count": 103,
     "metadata": {},
     "output_type": "execute_result"
    }
   ],
   "source": [
    "np.dot(newval,coeffs2)"
   ]
  },
  {
   "cell_type": "code",
   "execution_count": null,
   "id": "c435ea94",
   "metadata": {},
   "outputs": [],
   "source": []
  }
 ],
 "metadata": {
  "kernelspec": {
   "display_name": "Python 3",
   "language": "python",
   "name": "python3"
  },
  "language_info": {
   "codemirror_mode": {
    "name": "ipython",
    "version": 3
   },
   "file_extension": ".py",
   "mimetype": "text/x-python",
   "name": "python",
   "nbconvert_exporter": "python",
   "pygments_lexer": "ipython3",
   "version": "3.8.8"
  }
 },
 "nbformat": 4,
 "nbformat_minor": 5
}
