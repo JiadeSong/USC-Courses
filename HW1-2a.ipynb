{
 "cells": [
  {
   "cell_type": "code",
   "execution_count": 1,
   "id": "155001df",
   "metadata": {},
   "outputs": [],
   "source": [
    "import numpy as np\n",
    "import matplotlib.pyplot as plt"
   ]
  },
  {
   "cell_type": "code",
   "execution_count": 10,
   "id": "b813dbaa",
   "metadata": {},
   "outputs": [
    {
     "data": {
      "text/plain": [
       "array([[4.000e+00, 3.600e+05],\n",
       "       [4.000e+00, 3.400e+05],\n",
       "       [4.000e+00, 2.500e+05],\n",
       "       [4.000e+00, 2.055e+05],\n",
       "       [4.000e+00, 2.755e+05]])"
      ]
     },
     "execution_count": 10,
     "metadata": {},
     "output_type": "execute_result"
    }
   ],
   "source": [
    "array1 = np.genfromtxt('homes.csv',skip_header=1, delimiter = ',',usecols=(2,0))\n",
    "array1[:5]"
   ]
  },
  {
   "cell_type": "code",
   "execution_count": 24,
   "id": "1aa1c07e",
   "metadata": {},
   "outputs": [],
   "source": [
    "x, y = array1[:,0], array1[:,1]\n",
    "length=len(x)"
   ]
  },
  {
   "cell_type": "code",
   "execution_count": 41,
   "id": "7f3ace14",
   "metadata": {},
   "outputs": [
    {
     "data": {
      "image/png": "[encoded data removed]",
      "text/plain": [
       "<Figure size 432x288 with 1 Axes>"
      ]
     },
     "metadata": {
      "needs_background": "light"
     },
     "output_type": "display_data"
    }
   ],
   "source": [
    "plt.figure()\n",
    "plt.scatter(x, y, c='k', s=9)\n",
    "plt.ylabel('Price')\n",
    "plt.xlabel('Bedrooms')\n",
    "plt.grid()"
   ]
  },
  {
   "cell_type": "code",
   "execution_count": 42,
   "id": "9096a796",
   "metadata": {},
   "outputs": [
    {
     "data": {
      "text/plain": [
       "array([[1., 4.],\n",
       "       [1., 4.],\n",
       "       [1., 4.],\n",
       "       [1., 4.],\n",
       "       [1., 4.]])"
      ]
     },
     "execution_count": 42,
     "metadata": {},
     "output_type": "execute_result"
    }
   ],
   "source": [
    "x1 = np.c_[np.ones(length),x]\n",
    "x1[:5]"
   ]
  },
  {
   "cell_type": "code",
   "execution_count": 43,
   "id": "b21cebf8",
   "metadata": {},
   "outputs": [
    {
     "data": {
      "text/plain": [
       "array([[ 0.02439356, -0.00647541],\n",
       "       [-0.00647541,  0.00186543]])"
      ]
     },
     "execution_count": 43,
     "metadata": {},
     "output_type": "execute_result"
    }
   ],
   "source": [
    "b1 = np.dot(x1.T, x1)\n",
    "b1 = np.linalg.inv(b1)\n",
    "b1"
   ]
  },
  {
   "cell_type": "code",
   "execution_count": 44,
   "id": "6d2d53fb",
   "metadata": {},
   "outputs": [
    {
     "data": {
      "text/plain": [
       "array([1.45060745e+08, 5.33671316e+08])"
      ]
     },
     "execution_count": 44,
     "metadata": {},
     "output_type": "execute_result"
    }
   ],
   "source": [
    "b2 = np.dot(x1.T,y)\n",
    "b2"
   ]
  },
  {
   "cell_type": "code",
   "execution_count": 45,
   "id": "c400a0ae",
   "metadata": {},
   "outputs": [
    {
     "data": {
      "text/plain": [
       "array([82808.79961262, 56200.08366568])"
      ]
     },
     "execution_count": 45,
     "metadata": {},
     "output_type": "execute_result"
    }
   ],
   "source": [
    "coeffs = np.dot(b1,b2)\n",
    "coeffs"
   ]
  },
  {
   "cell_type": "code",
   "execution_count": 51,
   "id": "359147c7",
   "metadata": {
    "scrolled": true
   },
   "outputs": [
    {
     "data": {
      "text/plain": [
       "array([[82808.79961262],\n",
       "       [56200.08366568]])"
      ]
     },
     "execution_count": 51,
     "metadata": {},
     "output_type": "execute_result"
    }
   ],
   "source": [
    "coeffs2 = coeffs.reshape(-1,1)\n",
    "coeffs2"
   ]
  },
  {
   "cell_type": "code",
   "execution_count": 52,
   "id": "036c92fd",
   "metadata": {},
   "outputs": [],
   "source": [
    "yh = np.dot(x1,coeffs2)"
   ]
  },
  {
   "cell_type": "code",
   "execution_count": 53,
   "id": "d55d2a0f",
   "metadata": {
    "scrolled": true
   },
   "outputs": [
    {
     "data": {
      "image/png": "[encoded data removed]",
      "text/plain": [
       "<Figure size 432x288 with 1 Axes>"
      ]
     },
     "metadata": {
      "needs_background": "light"
     },
     "output_type": "display_data"
    }
   ],
   "source": [
    "plt.figure()\n",
    "plt.scatter(x,y,c='k',s=9)\n",
    "plt.plot(x,yh,color = 'r',linewidth = 0.5)\n",
    "plt.ylabel('Price')\n",
    "plt.xlabel('Odometer')\n",
    "plt.grid()"
   ]
  },
  {
   "cell_type": "code",
   "execution_count": null,
   "id": "958ef70f",
   "metadata": {},
   "outputs": [],
   "source": []
  }
 ],
 "metadata": {
  "kernelspec": {
   "display_name": "Python 3",
   "language": "python",
   "name": "python3"
  },
  "language_info": {
   "codemirror_mode": {
    "name": "ipython",
    "version": 3
   },
   "file_extension": ".py",
   "mimetype": "text/x-python",
   "name": "python",
   "nbconvert_exporter": "python",
   "pygments_lexer": "ipython3",
   "version": "3.8.8"
  }
 },
 "nbformat": 4,
 "nbformat_minor": 5
}
